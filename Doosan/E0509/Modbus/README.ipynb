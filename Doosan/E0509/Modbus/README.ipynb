{
 "cells": [
  {
   "cell_type": "markdown",
   "id": "c238c9c2-d853-4f46-a5cb-c0666b6f6e90",
   "metadata": {},
   "source": [
    "# Doosan Modbus Test\n",
    "---"
   ]
  },
  {
   "cell_type": "markdown",
   "id": "0fac031c-f4ae-46b0-b1d7-5c212b7a3793",
   "metadata": {},
   "source": [
    "## Structure : \n",
    "##### PC(Master) -> E0509(Slave)\n",
    "\n",
    "## Target :\n",
    "##### Control Robot controller IO and check Robot & Controller state"
   ]
  },
  {
   "cell_type": "code",
   "execution_count": null,
   "id": "2f882638-f119-4ee1-974e-afdfab44b4cb",
   "metadata": {},
   "outputs": [],
   "source": []
  },
  {
   "cell_type": "code",
   "execution_count": null,
   "id": "54344733-be8e-4e02-85e5-25ad48ff2c7d",
   "metadata": {},
   "outputs": [],
   "source": []
  }
 ],
 "metadata": {
  "kernelspec": {
   "display_name": "Python 3 (ipykernel)",
   "language": "python",
   "name": "python3"
  },
  "language_info": {
   "codemirror_mode": {
    "name": "ipython",
    "version": 3
   },
   "file_extension": ".py",
   "mimetype": "text/x-python",
   "name": "python",
   "nbconvert_exporter": "python",
   "pygments_lexer": "ipython3",
   "version": "3.10.12"
  }
 },
 "nbformat": 4,
 "nbformat_minor": 5
}
